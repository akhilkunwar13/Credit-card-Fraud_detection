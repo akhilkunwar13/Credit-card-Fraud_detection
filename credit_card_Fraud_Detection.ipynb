{
  "nbformat": 4,
  "nbformat_minor": 0,
  "metadata": {
    "colab": {
      "provenance": []
    },
    "kernelspec": {
      "name": "python3",
      "display_name": "Python 3"
    },
    "language_info": {
      "name": "python"
    }
  },
  "cells": [
    {
      "cell_type": "markdown",
      "source": [
        "import the required libraries"
      ],
      "metadata": {
        "id": "LGR1H0yz9HcE"
      }
    },
    {
      "cell_type": "code",
      "source": [
        "import pandas as pd\n",
        "import numpy as np\n",
        "import matplotlib.pyplot as plt\n",
        "import seaborn as sns\n",
        "from sklearn.ensemble import RandomForestClassifier\n",
        "from sklearn.metrics import accuracy_score, confusion_matrix, classification_report\n",
        "from sklearn.impute import SimpleImputer\n"
      ],
      "metadata": {
        "id": "c1-3flBh9VdH"
      },
      "execution_count": 1,
      "outputs": []
    },
    {
      "cell_type": "markdown",
      "source": [
        "This part imports necessary libraries:\n",
        "\n",
        "1-pandas for data manipulation\n",
        "\n",
        "2-numpy for numerical operations\n",
        "\n",
        "3-matplotlib.pyplot for plotting\n",
        "\n",
        "4-seaborn for data visualization\n",
        "\n",
        "5-RandomForestClassifier from scikit-learn for building the model\n",
        "\n",
        "6-accuracy_score, confusion_matrix, and classification_report from scikit-learn for model evaluation\n",
        "\n",
        "7-SimpleImputer from scikit-learn to handle missing values.\n"
      ],
      "metadata": {
        "id": "fX4gFPf89lMd"
      }
    },
    {
      "cell_type": "code",
      "source": [
        "train_data = pd.read_csv(\"/fraudTrain.csv\")\n",
        "test_data = pd.read_csv(\"/fraudTest.csv\")\n"
      ],
      "metadata": {
        "id": "9qzZ2NOz-HpJ"
      },
      "execution_count": 2,
      "outputs": []
    },
    {
      "cell_type": "markdown",
      "source": [
        "This loads the training and test datasets into pandas DataFrames from CSV files. Adjust the file paths according to your file locations"
      ],
      "metadata": {
        "id": "lU6C0WYR-WDJ"
      }
    },
    {
      "cell_type": "code",
      "source": [
        "print(\"Training Data:\")\n",
        "print(train_data.head())\n",
        "print(train_data.info())\n",
        "\n",
        "print(\"\\nTest Data:\")\n",
        "print(test_data.head())\n",
        "print(test_data.info())\n"
      ],
      "metadata": {
        "colab": {
          "base_uri": "https://localhost:8080/"
        },
        "id": "7OsnHT-r-TR6",
        "outputId": "9a343436-5dd7-4e83-a3d7-0106de1b254b"
      },
      "execution_count": 3,
      "outputs": [
        {
          "output_type": "stream",
          "name": "stdout",
          "text": [
            "Training Data:\n",
            "   Unnamed: 0 trans_date_trans_time            cc_num  \\\n",
            "0           0   2019-01-01 00:00:18  2703186189652095   \n",
            "1           1   2019-01-01 00:00:44      630423337322   \n",
            "2           2   2019-01-01 00:00:51    38859492057661   \n",
            "3           3   2019-01-01 00:01:16  3534093764340240   \n",
            "4           4   2019-01-01 00:03:06   375534208663984   \n",
            "\n",
            "                             merchant       category     amt      first  \\\n",
            "0          fraud_Rippin, Kub and Mann       misc_net    4.97   Jennifer   \n",
            "1     fraud_Heller, Gutmann and Zieme    grocery_pos  107.23  Stephanie   \n",
            "2                fraud_Lind-Buckridge  entertainment  220.11     Edward   \n",
            "3  fraud_Kutch, Hermiston and Farrell  gas_transport   45.00     Jeremy   \n",
            "4                 fraud_Keeling-Crist       misc_pos   41.96      Tyler   \n",
            "\n",
            "      last gender                        street  ...      lat      long  \\\n",
            "0    Banks      F                561 Perry Cove  ...  36.0788  -81.1781   \n",
            "1     Gill      F  43039 Riley Greens Suite 393  ...  48.8878 -118.2105   \n",
            "2  Sanchez      M      594 White Dale Suite 530  ...  42.1808 -112.2620   \n",
            "3    White      M   9443 Cynthia Court Apt. 038  ...  46.2306 -112.1138   \n",
            "4   Garcia      M              408 Bradley Rest  ...  38.4207  -79.4629   \n",
            "\n",
            "   city_pop                                job         dob  \\\n",
            "0      3495          Psychologist, counselling  1988-03-09   \n",
            "1       149  Special educational needs teacher  1978-06-21   \n",
            "2      4154        Nature conservation officer  1962-01-19   \n",
            "3      1939                    Patent attorney  1967-01-12   \n",
            "4        99     Dance movement psychotherapist  1986-03-28   \n",
            "\n",
            "                          trans_num     unix_time  merch_lat  merch_long  \\\n",
            "0  0b242abb623afc578575680df30655b9  1.325376e+09  36.011293  -82.048315   \n",
            "1  1f76529f8574734946361c461b024d99  1.325376e+09  49.159047 -118.186462   \n",
            "2  a1a22d70485983eac12b5b88dad1cf95  1.325376e+09  43.150704 -112.154481   \n",
            "3  6b849c168bdad6f867558c3793159a81  1.325376e+09  47.034331 -112.561071   \n",
            "4  a41d7549acf90789359a9aa5346dcb46  1.325376e+09  38.674999  -78.632459   \n",
            "\n",
            "   is_fraud  \n",
            "0       0.0  \n",
            "1       0.0  \n",
            "2       0.0  \n",
            "3       0.0  \n",
            "4       0.0  \n",
            "\n",
            "[5 rows x 23 columns]\n",
            "<class 'pandas.core.frame.DataFrame'>\n",
            "RangeIndex: 116621 entries, 0 to 116620\n",
            "Data columns (total 23 columns):\n",
            " #   Column                 Non-Null Count   Dtype  \n",
            "---  ------                 --------------   -----  \n",
            " 0   Unnamed: 0             116621 non-null  int64  \n",
            " 1   trans_date_trans_time  116621 non-null  object \n",
            " 2   cc_num                 116621 non-null  int64  \n",
            " 3   merchant               116621 non-null  object \n",
            " 4   category               116621 non-null  object \n",
            " 5   amt                    116621 non-null  float64\n",
            " 6   first                  116621 non-null  object \n",
            " 7   last                   116621 non-null  object \n",
            " 8   gender                 116621 non-null  object \n",
            " 9   street                 116621 non-null  object \n",
            " 10  city                   116621 non-null  object \n",
            " 11  state                  116621 non-null  object \n",
            " 12  zip                    116621 non-null  int64  \n",
            " 13  lat                    116621 non-null  float64\n",
            " 14  long                   116621 non-null  float64\n",
            " 15  city_pop               116621 non-null  int64  \n",
            " 16  job                    116621 non-null  object \n",
            " 17  dob                    116621 non-null  object \n",
            " 18  trans_num              116621 non-null  object \n",
            " 19  unix_time              116620 non-null  float64\n",
            " 20  merch_lat              116620 non-null  float64\n",
            " 21  merch_long             116620 non-null  float64\n",
            " 22  is_fraud               116620 non-null  float64\n",
            "dtypes: float64(7), int64(4), object(12)\n",
            "memory usage: 20.5+ MB\n",
            "None\n",
            "\n",
            "Test Data:\n",
            "   Unnamed: 0 trans_date_trans_time            cc_num  \\\n",
            "0           0   2020-06-21 12:14:25  2291163933867244   \n",
            "1           1   2020-06-21 12:14:33  3573030041201292   \n",
            "2           2   2020-06-21 12:14:53  3598215285024754   \n",
            "3           3   2020-06-21 12:15:15  3591919803438423   \n",
            "4           4   2020-06-21 12:15:17  3526826139003047   \n",
            "\n",
            "                               merchant        category    amt   first  \\\n",
            "0                 fraud_Kirlin and Sons   personal_care   2.86    Jeff   \n",
            "1                  fraud_Sporer-Keebler   personal_care  29.84  Joanne   \n",
            "2  fraud_Swaniawski, Nitzsche and Welch  health_fitness  41.28  Ashley   \n",
            "3                     fraud_Haley Group        misc_pos  60.05   Brian   \n",
            "4                 fraud_Johnston-Casper          travel   3.19  Nathan   \n",
            "\n",
            "       last gender                       street  ...      lat      long  \\\n",
            "0   Elliott      M            351 Darlene Green  ...  33.9659  -80.9355   \n",
            "1  Williams      F             3638 Marsh Union  ...  40.3207 -110.4360   \n",
            "2     Lopez      F         9333 Valentine Point  ...  40.6729  -73.5365   \n",
            "3  Williams      M  32941 Krystal Mill Apt. 552  ...  28.5697  -80.8191   \n",
            "4    Massey      M     5783 Evan Roads Apt. 465  ...  44.2529  -85.0170   \n",
            "\n",
            "   city_pop                     job         dob  \\\n",
            "0    333497     Mechanical engineer  1968-03-19   \n",
            "1       302  Sales professional, IT  1990-01-17   \n",
            "2     34496       Librarian, public  1970-10-21   \n",
            "3     54767            Set designer  1987-07-25   \n",
            "4      1126      Furniture designer  1955-07-06   \n",
            "\n",
            "                          trans_num   unix_time  merch_lat  merch_long  \\\n",
            "0  2da90c7d74bd46a0caf3777415b3ebd3  1371816865  33.986391  -81.200714   \n",
            "1  324cc204407e99f51b0d6ca0055005e7  1371816873  39.450498 -109.960431   \n",
            "2  c81755dbbbea9d5c77f094348a7579be  1371816893  40.495810  -74.196111   \n",
            "3  2159175b9efe66dc301f149d3d5abf8c  1371816915  28.812398  -80.883061   \n",
            "4  57ff021bd3f328f8738bb535c302a31b  1371816917  44.959148  -85.884734   \n",
            "\n",
            "   is_fraud  \n",
            "0       0.0  \n",
            "1       0.0  \n",
            "2       0.0  \n",
            "3       0.0  \n",
            "4       0.0  \n",
            "\n",
            "[5 rows x 23 columns]\n",
            "<class 'pandas.core.frame.DataFrame'>\n",
            "RangeIndex: 116581 entries, 0 to 116580\n",
            "Data columns (total 23 columns):\n",
            " #   Column                 Non-Null Count   Dtype  \n",
            "---  ------                 --------------   -----  \n",
            " 0   Unnamed: 0             116581 non-null  int64  \n",
            " 1   trans_date_trans_time  116581 non-null  object \n",
            " 2   cc_num                 116581 non-null  int64  \n",
            " 3   merchant               116581 non-null  object \n",
            " 4   category               116581 non-null  object \n",
            " 5   amt                    116581 non-null  float64\n",
            " 6   first                  116581 non-null  object \n",
            " 7   last                   116581 non-null  object \n",
            " 8   gender                 116581 non-null  object \n",
            " 9   street                 116581 non-null  object \n",
            " 10  city                   116581 non-null  object \n",
            " 11  state                  116581 non-null  object \n",
            " 12  zip                    116581 non-null  int64  \n",
            " 13  lat                    116581 non-null  float64\n",
            " 14  long                   116581 non-null  float64\n",
            " 15  city_pop               116581 non-null  int64  \n",
            " 16  job                    116581 non-null  object \n",
            " 17  dob                    116581 non-null  object \n",
            " 18  trans_num              116581 non-null  object \n",
            " 19  unix_time              116581 non-null  int64  \n",
            " 20  merch_lat              116581 non-null  float64\n",
            " 21  merch_long             116580 non-null  float64\n",
            " 22  is_fraud               116580 non-null  float64\n",
            "dtypes: float64(6), int64(5), object(12)\n",
            "memory usage: 20.5+ MB\n",
            "None\n"
          ]
        }
      ]
    },
    {
      "cell_type": "markdown",
      "source": [
        "This prints the first few rows and the information (including data types and missing values) of the training and test datasets.\n"
      ],
      "metadata": {
        "id": "l0ZGKZkP-c65"
      }
    },
    {
      "cell_type": "code",
      "source": [
        "print(\"Missing values in training data:\")\n",
        "print(train_data.isnull().sum())\n",
        "\n",
        "print(\"Missing values in test data:\")\n",
        "print(test_data.isnull().sum())\n"
      ],
      "metadata": {
        "colab": {
          "base_uri": "https://localhost:8080/"
        },
        "id": "PX5XcueH-YPi",
        "outputId": "978f3f44-14cd-41fb-aec5-7bbb714d461d"
      },
      "execution_count": 4,
      "outputs": [
        {
          "output_type": "stream",
          "name": "stdout",
          "text": [
            "Missing values in training data:\n",
            "Unnamed: 0               0\n",
            "trans_date_trans_time    0\n",
            "cc_num                   0\n",
            "merchant                 0\n",
            "category                 0\n",
            "amt                      0\n",
            "first                    0\n",
            "last                     0\n",
            "gender                   0\n",
            "street                   0\n",
            "city                     0\n",
            "state                    0\n",
            "zip                      0\n",
            "lat                      0\n",
            "long                     0\n",
            "city_pop                 0\n",
            "job                      0\n",
            "dob                      0\n",
            "trans_num                0\n",
            "unix_time                1\n",
            "merch_lat                1\n",
            "merch_long               1\n",
            "is_fraud                 1\n",
            "dtype: int64\n",
            "Missing values in test data:\n",
            "Unnamed: 0               0\n",
            "trans_date_trans_time    0\n",
            "cc_num                   0\n",
            "merchant                 0\n",
            "category                 0\n",
            "amt                      0\n",
            "first                    0\n",
            "last                     0\n",
            "gender                   0\n",
            "street                   0\n",
            "city                     0\n",
            "state                    0\n",
            "zip                      0\n",
            "lat                      0\n",
            "long                     0\n",
            "city_pop                 0\n",
            "job                      0\n",
            "dob                      0\n",
            "trans_num                0\n",
            "unix_time                0\n",
            "merch_lat                0\n",
            "merch_long               1\n",
            "is_fraud                 1\n",
            "dtype: int64\n"
          ]
        }
      ]
    },
    {
      "cell_type": "markdown",
      "source": [
        "This prints the total number of missing values in each column of the training and test datasets.\n"
      ],
      "metadata": {
        "id": "Inw_SYWm-mFE"
      }
    },
    {
      "cell_type": "code",
      "source": [
        "print(train_data.columns)\n"
      ],
      "metadata": {
        "colab": {
          "base_uri": "https://localhost:8080/"
        },
        "id": "R_ta_DOB-hkk",
        "outputId": "fb4f939c-3589-45a4-d63c-5c7e1bdf047a"
      },
      "execution_count": 6,
      "outputs": [
        {
          "output_type": "stream",
          "name": "stdout",
          "text": [
            "Index(['Unnamed: 0', 'trans_date_trans_time', 'cc_num', 'merchant', 'category',\n",
            "       'amt', 'first', 'last', 'gender', 'street', 'city', 'state', 'zip',\n",
            "       'lat', 'long', 'city_pop', 'job', 'dob', 'trans_num', 'unix_time',\n",
            "       'merch_lat', 'merch_long', 'is_fraud'],\n",
            "      dtype='object')\n"
          ]
        }
      ]
    },
    {
      "cell_type": "markdown",
      "source": [
        "This prints the column names of the training dataset.\n"
      ],
      "metadata": {
        "id": "Iiug4Nq--sp2"
      }
    },
    {
      "cell_type": "code",
      "source": [
        "X_train = train_data.drop('is_fraud', axis=1)\n",
        "y_train = train_data['is_fraud']\n",
        "\n",
        "X_test = test_data.drop('is_fraud', axis=1)\n",
        "y_test = test_data['is_fraud']\n"
      ],
      "metadata": {
        "id": "sElhTQKq-kaA"
      },
      "execution_count": 8,
      "outputs": []
    },
    {
      "cell_type": "markdown",
      "source": [
        "This separates the features (X_train, X_test) and target variable (y_train, y_test) from the datasets."
      ],
      "metadata": {
        "id": "ww4Kx2v0-xv8"
      }
    },
    {
      "cell_type": "code",
      "source": [
        "X_train_numeric = X_train.select_dtypes(include=np.number)  # Select numeric columns\n",
        "X_test_numeric = X_test.select_dtypes(include=np.number)  # Select numeric columns\n"
      ],
      "metadata": {
        "id": "XIX9mkGG-qbp"
      },
      "execution_count": 9,
      "outputs": []
    },
    {
      "cell_type": "markdown",
      "source": [
        "This selects only numeric columns from the features in both training and test datasets.\n"
      ],
      "metadata": {
        "id": "kF7xhV0r-39K"
      }
    },
    {
      "cell_type": "code",
      "source": [
        "imputer = SimpleImputer(strategy='mean')\n",
        "X_train_imputed = imputer.fit_transform(X_train_numeric)\n",
        "X_test_imputed = imputer.transform(X_test_numeric)\n"
      ],
      "metadata": {
        "id": "LtB8aE0L-0m_"
      },
      "execution_count": 11,
      "outputs": []
    },
    {
      "cell_type": "markdown",
      "source": [
        "This imputes missing values in the numeric features using the mean strategy.\n"
      ],
      "metadata": {
        "id": "G62qvys7-9XD"
      }
    },
    {
      "cell_type": "code",
      "source": [
        "# Handle missing values in the target variable by filling NaN with mode\n",
        "y_train.fillna(y_train.mode()[0], inplace=True)\n",
        "y_test.fillna(y_test.mode()[0], inplace=True)\n"
      ],
      "metadata": {
        "id": "lGjFvMHl-20x"
      },
      "execution_count": 13,
      "outputs": []
    },
    {
      "cell_type": "markdown",
      "source": [
        "This handles missing values in the target variable by filling NaN values with the mode.\n"
      ],
      "metadata": {
        "id": "iB9VzK7d-6z3"
      }
    },
    {
      "cell_type": "code",
      "source": [
        "rf_model = RandomForestClassifier(n_estimators=100, random_state=42)\n",
        "rf_model.fit(X_train_imputed, y_train)\n"
      ],
      "metadata": {
        "colab": {
          "base_uri": "https://localhost:8080/",
          "height": 74
        },
        "id": "9lnghaYF_Jmo",
        "outputId": "aea92517-8892-4100-89f1-3ec3f29197dd"
      },
      "execution_count": 14,
      "outputs": [
        {
          "output_type": "execute_result",
          "data": {
            "text/plain": [
              "RandomForestClassifier(random_state=42)"
            ],
            "text/html": [
              "<style>#sk-container-id-1 {color: black;background-color: white;}#sk-container-id-1 pre{padding: 0;}#sk-container-id-1 div.sk-toggleable {background-color: white;}#sk-container-id-1 label.sk-toggleable__label {cursor: pointer;display: block;width: 100%;margin-bottom: 0;padding: 0.3em;box-sizing: border-box;text-align: center;}#sk-container-id-1 label.sk-toggleable__label-arrow:before {content: \"▸\";float: left;margin-right: 0.25em;color: #696969;}#sk-container-id-1 label.sk-toggleable__label-arrow:hover:before {color: black;}#sk-container-id-1 div.sk-estimator:hover label.sk-toggleable__label-arrow:before {color: black;}#sk-container-id-1 div.sk-toggleable__content {max-height: 0;max-width: 0;overflow: hidden;text-align: left;background-color: #f0f8ff;}#sk-container-id-1 div.sk-toggleable__content pre {margin: 0.2em;color: black;border-radius: 0.25em;background-color: #f0f8ff;}#sk-container-id-1 input.sk-toggleable__control:checked~div.sk-toggleable__content {max-height: 200px;max-width: 100%;overflow: auto;}#sk-container-id-1 input.sk-toggleable__control:checked~label.sk-toggleable__label-arrow:before {content: \"▾\";}#sk-container-id-1 div.sk-estimator input.sk-toggleable__control:checked~label.sk-toggleable__label {background-color: #d4ebff;}#sk-container-id-1 div.sk-label input.sk-toggleable__control:checked~label.sk-toggleable__label {background-color: #d4ebff;}#sk-container-id-1 input.sk-hidden--visually {border: 0;clip: rect(1px 1px 1px 1px);clip: rect(1px, 1px, 1px, 1px);height: 1px;margin: -1px;overflow: hidden;padding: 0;position: absolute;width: 1px;}#sk-container-id-1 div.sk-estimator {font-family: monospace;background-color: #f0f8ff;border: 1px dotted black;border-radius: 0.25em;box-sizing: border-box;margin-bottom: 0.5em;}#sk-container-id-1 div.sk-estimator:hover {background-color: #d4ebff;}#sk-container-id-1 div.sk-parallel-item::after {content: \"\";width: 100%;border-bottom: 1px solid gray;flex-grow: 1;}#sk-container-id-1 div.sk-label:hover label.sk-toggleable__label {background-color: #d4ebff;}#sk-container-id-1 div.sk-serial::before {content: \"\";position: absolute;border-left: 1px solid gray;box-sizing: border-box;top: 0;bottom: 0;left: 50%;z-index: 0;}#sk-container-id-1 div.sk-serial {display: flex;flex-direction: column;align-items: center;background-color: white;padding-right: 0.2em;padding-left: 0.2em;position: relative;}#sk-container-id-1 div.sk-item {position: relative;z-index: 1;}#sk-container-id-1 div.sk-parallel {display: flex;align-items: stretch;justify-content: center;background-color: white;position: relative;}#sk-container-id-1 div.sk-item::before, #sk-container-id-1 div.sk-parallel-item::before {content: \"\";position: absolute;border-left: 1px solid gray;box-sizing: border-box;top: 0;bottom: 0;left: 50%;z-index: -1;}#sk-container-id-1 div.sk-parallel-item {display: flex;flex-direction: column;z-index: 1;position: relative;background-color: white;}#sk-container-id-1 div.sk-parallel-item:first-child::after {align-self: flex-end;width: 50%;}#sk-container-id-1 div.sk-parallel-item:last-child::after {align-self: flex-start;width: 50%;}#sk-container-id-1 div.sk-parallel-item:only-child::after {width: 0;}#sk-container-id-1 div.sk-dashed-wrapped {border: 1px dashed gray;margin: 0 0.4em 0.5em 0.4em;box-sizing: border-box;padding-bottom: 0.4em;background-color: white;}#sk-container-id-1 div.sk-label label {font-family: monospace;font-weight: bold;display: inline-block;line-height: 1.2em;}#sk-container-id-1 div.sk-label-container {text-align: center;}#sk-container-id-1 div.sk-container {/* jupyter's `normalize.less` sets `[hidden] { display: none; }` but bootstrap.min.css set `[hidden] { display: none !important; }` so we also need the `!important` here to be able to override the default hidden behavior on the sphinx rendered scikit-learn.org. See: https://github.com/scikit-learn/scikit-learn/issues/21755 */display: inline-block !important;position: relative;}#sk-container-id-1 div.sk-text-repr-fallback {display: none;}</style><div id=\"sk-container-id-1\" class=\"sk-top-container\"><div class=\"sk-text-repr-fallback\"><pre>RandomForestClassifier(random_state=42)</pre><b>In a Jupyter environment, please rerun this cell to show the HTML representation or trust the notebook. <br />On GitHub, the HTML representation is unable to render, please try loading this page with nbviewer.org.</b></div><div class=\"sk-container\" hidden><div class=\"sk-item\"><div class=\"sk-estimator sk-toggleable\"><input class=\"sk-toggleable__control sk-hidden--visually\" id=\"sk-estimator-id-1\" type=\"checkbox\" checked><label for=\"sk-estimator-id-1\" class=\"sk-toggleable__label sk-toggleable__label-arrow\">RandomForestClassifier</label><div class=\"sk-toggleable__content\"><pre>RandomForestClassifier(random_state=42)</pre></div></div></div></div></div>"
            ]
          },
          "metadata": {},
          "execution_count": 14
        }
      ]
    },
    {
      "cell_type": "markdown",
      "source": [
        "This initializes and fits a RandomForestClassifier model with 100 estimators and a random state of 42 using the training data.\n"
      ],
      "metadata": {
        "id": "wB8BvhIp_Lan"
      }
    },
    {
      "cell_type": "code",
      "source": [
        "y_pred = rf_model.predict(X_test_imputed)\n"
      ],
      "metadata": {
        "id": "F9qlLhF3_Y8B"
      },
      "execution_count": 15,
      "outputs": []
    },
    {
      "cell_type": "markdown",
      "source": [
        "This makes predictions on the test data using the trained model.\n"
      ],
      "metadata": {
        "id": "KdkTfPuh_cLm"
      }
    },
    {
      "cell_type": "code",
      "source": [
        "print(\"Accuracy Score:\", accuracy_score(y_test, y_pred))\n",
        "print(\"\\nConfusion Matrix:\\n\", confusion_matrix(y_test, y_pred))\n",
        "print(\"\\nClassification Report:\\n\", classification_report(y_test, y_pred))\n"
      ],
      "metadata": {
        "colab": {
          "base_uri": "https://localhost:8080/"
        },
        "id": "4v5j7ykS_anh",
        "outputId": "24fb88d9-e36a-4c06-ace0-e6b861b795a1"
      },
      "execution_count": 16,
      "outputs": [
        {
          "output_type": "stream",
          "name": "stdout",
          "text": [
            "Accuracy Score: 0.9959684682752764\n",
            "\n",
            "Confusion Matrix:\n",
            " [[116067     59]\n",
            " [   411     44]]\n",
            "\n",
            "Classification Report:\n",
            "               precision    recall  f1-score   support\n",
            "\n",
            "         0.0       1.00      1.00      1.00    116126\n",
            "         1.0       0.43      0.10      0.16       455\n",
            "\n",
            "    accuracy                           1.00    116581\n",
            "   macro avg       0.71      0.55      0.58    116581\n",
            "weighted avg       0.99      1.00      0.99    116581\n",
            "\n"
          ]
        }
      ]
    },
    {
      "cell_type": "markdown",
      "source": [
        "This calculates and prints the accuracy score, confusion matrix, and classification report of the model's predictions on the test data."
      ],
      "metadata": {
        "id": "ZzhsuUw1_fhp"
      }
    },
    {
      "cell_type": "code",
      "source": [
        "# Visualization\n",
        "plt.figure(figsize=(8, 6))\n",
        "sns.heatmap(confusion_matrix(y_test, y_pred), annot=True, cmap='Blues', fmt='d', cbar=False)\n",
        "plt.xlabel('Predicted Labels')\n",
        "plt.ylabel('True Labels')\n",
        "plt.title('Confusion Matrix')\n",
        "plt.show()\n"
      ],
      "metadata": {
        "colab": {
          "base_uri": "https://localhost:8080/",
          "height": 564
        },
        "id": "a_S4NAmH_d6Z",
        "outputId": "3185a128-b54c-43e3-e01a-ba0e50354a4a"
      },
      "execution_count": 17,
      "outputs": [
        {
          "output_type": "display_data",
          "data": {
            "text/plain": [
              "<Figure size 800x600 with 1 Axes>"
            ],
            "image/png": "[encoded data removed]"
          },
          "metadata": {}
        }
      ]
    },
    {
      "cell_type": "markdown",
      "source": [
        "This visualizes the confusion matrix using seaborn's heatmap. It displays the true labels on the y-axis and predicted labels on the x-axis."
      ],
      "metadata": {
        "id": "Bovdj9Kv_qiL"
      }
    },
    {
      "cell_type": "code",
      "source": [],
      "metadata": {
        "id": "q9Aienbx_2Wz"
      },
      "execution_count": null,
      "outputs": []
    }
  ]
}